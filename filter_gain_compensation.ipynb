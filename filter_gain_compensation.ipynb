{
 "cells": [
  {
   "cell_type": "markdown",
   "metadata": {
    "collapsed": true,
    "pycharm": {
     "name": "#%% md\n"
    }
   },
   "source": [
    "Notebook to calculate output gain factor $\\gamma_0$ for the generalized low-pass filter in  [Moog Ladder Filter Generalizations Based on State Variable Filters](https://www.dafx.de/paper-archive/details.php?id=tKYhnWc19H9rsRWpx9vyog) (equation 20). We do that for DC gain $g_{dc}$, $g_{\\omega_c}$ and $g_\\text{SVF}$ which is the value that a traditional LP-SVF will take at $\\omega_c$,\n",
    "\n",
    "First we include some essentials from `sympy`.\n"
   ]
  },
  {
   "cell_type": "code",
   "execution_count": 15,
   "outputs": [],
   "source": [
    "from sympy import symbols, solve, Eq, init_printing\n",
    "\n",
    "init_printing(use_latex=True)\n"
   ],
   "metadata": {
    "collapsed": false,
    "pycharm": {
     "name": "#%%\n"
    }
   }
  },
  {
   "cell_type": "markdown",
   "source": [
    "Now we can calculate the transfer function `Hio4`"
   ],
   "metadata": {
    "collapsed": false,
    "pycharm": {
     "name": "#%% md\n"
    }
   }
  },
  {
   "cell_type": "code",
   "execution_count": 25,
   "outputs": [
    {
     "data": {
      "text/plain": "                       4                 \n                 -γ⋅w_c                  \n─────────────────────────────────────────\n                                        2\n        2    4   ⎛             2      2⎞ \n4⋅kₕₐₜ⋅r ⋅w_c  + ⎝2⋅r⋅s⋅w_c + s  + w_c ⎠ ",
      "text/latex": "$\\displaystyle - \\frac{\\gamma w_{c}^{4}}{4 k_{hat} r^{2} w_{c}^{4} + \\left(2 r s w_{c} + s^{2} + w_{c}^{2}\\right)^{2}}$"
     },
     "execution_count": 25,
     "metadata": {},
     "output_type": "execute_result"
    }
   ],
   "source": [
    "wc, r, s, gamma, k_hat = symbols('w_c, r, s, gamma, k_hat')\n",
    "\n",
    "Hi2 = wc**2 / (s**2 + 2*r*wc*s + wc**2)\n",
    "\n",
    "Hio4 = -gamma*Hi2*Hi2 / (1 + 4*k_hat*r**2*Hi2*Hi2)\n",
    "simplify(Hio4)"
   ],
   "metadata": {
    "collapsed": false,
    "pycharm": {
     "name": "#%%\n"
    }
   }
  },
  {
   "cell_type": "markdown",
   "source": [
    "First we try out solving for $\\gamma_0$ when the gain at DC is 1. This is done in the paper ($g_{dc} = 1$ in equation 26)"
   ],
   "metadata": {
    "collapsed": false
   }
  },
  {
   "cell_type": "code",
   "execution_count": 22,
   "outputs": [
    {
     "data": {
      "text/plain": "⎡          2    ⎤\n⎣- 4⋅kₕₐₜ⋅r  - 1⎦",
      "text/latex": "$\\displaystyle \\left[ - 4 k_{hat} r^{2} - 1\\right]$"
     },
     "execution_count": 22,
     "metadata": {},
     "output_type": "execute_result"
    }
   ],
   "source": [
    "solve(Eq(Hio4.subs({s: 0}), 1), gamma)"
   ],
   "metadata": {
    "collapsed": false,
    "pycharm": {
     "name": "#%%\n"
    }
   }
  },
  {
   "cell_type": "markdown",
   "source": [
    "Next we try out solving for $\\gamma_0$ when the gain at $\\omega_c$ is 1."
   ],
   "metadata": {
    "collapsed": false
   }
  },
  {
   "cell_type": "code",
   "execution_count": 23,
   "outputs": [
    {
     "data": {
      "text/plain": "⎡          2            2⎤\n⎣- 4⋅kₕₐₜ⋅r  - 4⋅(r + 1) ⎦",
      "text/latex": "$\\displaystyle \\left[ - 4 k_{hat} r^{2} - 4 \\left(r + 1\\right)^{2}\\right]$"
     },
     "execution_count": 23,
     "metadata": {},
     "output_type": "execute_result"
    }
   ],
   "source": [
    "solve(Eq(Hio4.subs({s: wc}), 1), gamma)"
   ],
   "metadata": {
    "collapsed": false,
    "pycharm": {
     "name": "#%%\n"
    }
   }
  },
  {
   "cell_type": "markdown",
   "source": [
    "Finally we can find a value for $\\gamma_0$ so that the gain is the same as for a standard LP-SVF"
   ],
   "metadata": {
    "collapsed": false
   }
  },
  {
   "cell_type": "code",
   "execution_count": 30,
   "outputs": [
    {
     "data": {
      "text/plain": "⎡          2          ⎤\n⎢  2⋅kₕₐₜ⋅r           ⎥\n⎢- ───────── - 2⋅r - 2⎥\n⎣    r + 1            ⎦",
      "text/latex": "$\\displaystyle \\left[ - \\frac{2 k_{hat} r^{2}}{r + 1} - 2 r - 2\\right]$"
     },
     "execution_count": 30,
     "metadata": {},
     "output_type": "execute_result"
    }
   ],
   "source": [
    "solve(Eq(Hio4.subs({s: wc}), Hi2.subs({s: wc})), gamma) # DC gain is 1\n",
    "\n"
   ],
   "metadata": {
    "collapsed": false,
    "pycharm": {
     "name": "#%%\n"
    }
   }
  }
 ],
 "metadata": {
  "kernelspec": {
   "display_name": "Python 3",
   "language": "python",
   "name": "python3"
  },
  "language_info": {
   "codemirror_mode": {
    "name": "ipython",
    "version": 2
   },
   "file_extension": ".py",
   "mimetype": "text/x-python",
   "name": "python",
   "nbconvert_exporter": "python",
   "pygments_lexer": "ipython2",
   "version": "2.7.6"
  }
 },
 "nbformat": 4,
 "nbformat_minor": 0
}