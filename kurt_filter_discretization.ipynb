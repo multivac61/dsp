{
 "cells": [
  {
   "cell_type": "markdown",
   "metadata": {
    "pycharm": {
     "name": "#%% md\n"
    }
   },
   "source": [
    "In this notebook I derive equations (42-43) from [Moog Ladder Filter Generalizations Based On State Variable Filters](https://dafx2020.mdw.ac.at/proceedings/papers/DAFx2020_paper_70.pdf) using the substitution rule for trapezoidal integration as shown in [A generalized method for the derivation of non-linear state-space models from circuit schematics](https://www.hsu-hh.de/ant/wp-content/uploads/sites/699/2017/10/Holters-Z%C3%B6lzer-2015-A-Generalized-Method-for-the-Derivation-of-Non-linear-State-space-Models-from-Circuit-Schematics.pdf).\n",
    "\n",
    "This method is equivalent to section 7.14 in [The Art of VA Filter Design 2.1.2](https://www.discodsp.net/VAFilterDesign_2.1.2.pdf).\n",
    "***"
   ]
  },
  {
   "cell_type": "markdown",
   "metadata": {},
   "source": [
    "Before we start I would like to correct some minor errors in section 6 in the original paper.\n",
    "\n",
    "Following the somewhat complicated steps in section 7.14 in [The Art of VA Filter Design 2.1.2](https://www.discodsp.net/VAFilterDesign_2.1.2.pdf) we derive matrices $\\tilde{\\boldsymbol{A}}, \\tilde{\\boldsymbol{B}}, \\tilde{\\boldsymbol{C}}$ and $\\tilde{\\boldsymbol{D}}$.\n",
    "\n",
    "We have equations for the outputs, *internal* variables and input signals of the TDF-II integrators respecitvely\n",
    "\n",
    "\\begin{align}\n",
    "    \\boldsymbol{u}[n] &= \\boldsymbol{v}[n - 1] + \\boldsymbol{w}[n], && \\text{(3.3a) in Art of VA} \\\\\n",
    "    \\boldsymbol{v}[n] &= \\boldsymbol{u}[n] + \\boldsymbol{w}[n], && \\text{(3.3b) in Art of VA} \\\\\n",
    "    \\boldsymbol{w}[n] &= \\boldsymbol{H} (\\boldsymbol{A}\\boldsymbol{v}[n-1] + \\boldsymbol{B}\\boldsymbol{x}[n]),  && \\text{(7.41) in Art of VA}.\n",
    "\\end{align}\n",
    "\n",
    "Here $\\boldsymbol{H} = g (\\boldsymbol{I} - g\\boldsymbol{A})^{-1}$ and $g = \\frac{\\omega_c T}{2}$, not $\\frac{2\\omega_c}{T}$ as written out in section 6 of [Moog Ladder Filter Generalizations Based On State Variable Filters](https://dafx2020.mdw.ac.at/proceedings/papers/DAFx2020_paper_70.pdf). Note that the units for the latter expression are [rad/s^2] whereas the latter one is [rad].\n",
    "\n",
    "Now we have \n",
    "\n",
    "\\begin{align}\n",
    "      \\boldsymbol{v}[n] &= \\boldsymbol{u}[n] + \\boldsymbol{w}[n] \\\\\n",
    "                        &= \\boldsymbol{v}[n - 1] + 2\\boldsymbol{w}[n] \\\\\n",
    "                        &= \\underbrace{(2 \\boldsymbol{H}\\boldsymbol{A} + \\boldsymbol{I})}_{\\tilde{\\boldsymbol{A}}}\\boldsymbol{v}[n - 1] + \\underbrace{2 \\boldsymbol{H}\\boldsymbol{B}}_{\\tilde{\\boldsymbol{B}}}\\boldsymbol{x}[n]\n",
    "\\end{align}\n",
    "\n",
    "We can find $\\tilde{\\boldsymbol{C}}, \\tilde{\\boldsymbol{D}}$ by substituting (3.3a) and (7.41) into (7.38b)\n",
    "\n",
    "\\begin{align}\n",
    "    \\boldsymbol{y}[n] &= \\boldsymbol{C} \\boldsymbol{u}[n] \\\\\n",
    "        &= \\boldsymbol{C} (\\boldsymbol{v}[n - 1] + \\boldsymbol{w}[n]) \\\\\n",
    "        &= \\boldsymbol{C} (\\boldsymbol{v}[n - 1] + \\boldsymbol{H} (\\boldsymbol{A}\\boldsymbol{v}[n-1] + \\boldsymbol{B}\\boldsymbol{x}[n])) \\\\\n",
    "        &= \\underbrace{\\boldsymbol{C} (\\boldsymbol{I} + \\boldsymbol{H}\\boldsymbol{A} )}_{\\tilde{\\boldsymbol{C}}} \\boldsymbol{v}[n-1] + \\underbrace{\\boldsymbol{C}\\boldsymbol{H}\\boldsymbol{B}}_{\\tilde{\\boldsymbol{D}}} \\boldsymbol{x}[n]\n",
    "\\end{align}\n",
    "\n",
    "Note that here we find that $\\tilde{\\boldsymbol{D}} = \\boldsymbol{C}\\boldsymbol{H}\\boldsymbol{B}$ but not $\\boldsymbol{C} \\boldsymbol{B}$ as written in the paper. \n",
    "***\n",
    "As we can see below, these equations are not equivalent. For this particular circuit $\\boldsymbol{C}\\boldsymbol{B} = \\boldsymbol{0}$ while $\\boldsymbol{C}\\boldsymbol{H}\\boldsymbol{B}$ is non-zero (but still very small for some units I tried out)."
   ]
  },
  {
   "cell_type": "code",
   "execution_count": 43,
   "metadata": {},
   "outputs": [
    {
     "data": {
      "text/latex": [
       "$\\displaystyle \\left( \\left[\\begin{matrix}0\\end{matrix}\\right], \\  \\left[\\begin{matrix}\\frac{T^{4} \\gamma \\omega_{c}^{4}}{4 T^{4} \\omega_{c}^{4} k r^{2} + T^{4} \\omega_{c}^{4} + 8 T^{3} \\omega_{c}^{3} r + 16 T^{2} \\omega_{c}^{2} r^{2} + 8 T^{2} \\omega_{c}^{2} + 32 T \\omega_{c} r + 16}\\end{matrix}\\right], \\  \\left[\\begin{matrix}1.61518666903307 \\cdot 10^{-8}\\end{matrix}\\right]\\right)$"
      ],
      "text/plain": [
       "⎛     ⎡                                                4                4     \n",
       "⎜     ⎢                                               T ⋅\\gamma⋅\\omega_c      \n",
       "⎜[0], ⎢───────────────────────────────────────────────────────────────────────\n",
       "⎜     ⎢   4         4    2    4         4      3         3         2         2\n",
       "⎝     ⎣4⋅T ⋅\\omega_c ⋅k⋅r  + T ⋅\\omega_c  + 8⋅T ⋅\\omega_c ⋅r + 16⋅T ⋅\\omega_c \n",
       "\n",
       "                                           ⎤                       ⎞\n",
       "                                           ⎥                       ⎟\n",
       "───────────────────────────────────────────⎥, [1.61518666903307e-8]⎟\n",
       "  2      2         2                       ⎥                       ⎟\n",
       "⋅r  + 8⋅T ⋅\\omega_c  + 32⋅T⋅\\omega_c⋅r + 16⎦                       ⎠"
      ]
     },
     "execution_count": 43,
     "metadata": {},
     "output_type": "execute_result"
    }
   ],
   "source": [
    "from sympy import init_printing, symbols, ZeroMatrix, Identity, BlockMatrix, block_collapse, Matrix, eye, MatrixSymbol\n",
    "\n",
    "init_printing(use_latex=True)\n",
    "\n",
    "wc, T, r, k, gamma = symbols('\\omega_c, T, r, k, \\gamma')\n",
    "\n",
    "A = Matrix([[-2*r, 1, 0, 4*k*r**2], [-1, 0, 0, 0], [0, -1, -2*r, 1], [0, 0, -1, 0]])\n",
    "B = Matrix([[1, 0, 0, 0]]).T\n",
    "C = Matrix([[0, 0, 0, -gamma]])\n",
    "\n",
    "g = wc * T / 2\n",
    "H = g * (eye(4) - g*A).inv()\n",
    "\n",
    "assert C*B != C*H*B\n",
    "\n",
    "C*B, C*H*B, (C*H*B).subs({wc: 1e3, T: 1/44.1e3, r: 0.5, k: 0.5, gamma:1})"
   ]
  },
  {
   "cell_type": "markdown",
   "metadata": {
    "pycharm": {
     "name": "#%% md\n"
    }
   },
   "source": [
    "Now we derive the matrices using the substitution rule for trapezoidal integration as shown in [A generalized method for the derivation of non-linear state-space models from circuit schematics](https://www.hsu-hh.de/ant/wp-content/uploads/sites/699/2017/10/Holters-Z%C3%B6lzer-2015-A-Generalized-Method-for-the-Derivation-of-Non-linear-State-space-Models-from-Circuit-Schematics.pdf). Starting out with equations (37-38) in section 5 of [Moog Ladder Filter Generalizations Based On State Variable Filters](https://dafx2020.mdw.ac.at/proceedings/papers/DAFx2020_paper_70.pdf)\n",
    "\n",
    "\\begin{align}\n",
    "  \\frac{d}{dt} \\boldsymbol{v} &= \\omega_c \\boldsymbol{A} \\boldsymbol{v} + \\omega_c \\boldsymbol{B} x_\\text{in}, \\\\\n",
    "  y_\\text{out} &= \\boldsymbol{C} \\boldsymbol{v}.\n",
    "\\end{align}\n",
    "\n",
    "Rewriting these equations into a single block matrix yields\n",
    "\n",
    "\\begin{equation}\n",
    "    \\begin{bmatrix}\n",
    "        -\\omega_c \\boldsymbol{A} & \\boldsymbol{I} & \\boldsymbol{0} \\\\\n",
    "        -\\boldsymbol{C} & \\boldsymbol{0} & \\boldsymbol{I} \\\\\n",
    "    \\end{bmatrix}\n",
    "    \\begin{pmatrix}\n",
    "      \\boldsymbol{v} \\\\\n",
    "      \\frac{d}{dt} \\boldsymbol{v} \\\\\n",
    "      y_\\text{out}\n",
    "    \\end{pmatrix}\n",
    "    =\n",
    "    \\begin{pmatrix}\n",
    "      \\omega_c \\boldsymbol{B} x_\\text{in} \\\\\n",
    "      \\boldsymbol{0}\n",
    "    \\end{pmatrix}.\n",
    "\\end{equation}\n",
    "  \n",
    "Now we substitude $\\frac{d}{dt} \\boldsymbol{v}$ and $\\boldsymbol{v}$ using equations (11a) and (11b) from Holters\n",
    "\n",
    "\\begin{align}\n",
    "  \\frac{d}{dt} \\boldsymbol{v}[n] &= \\frac{1}{T}(\\bar{v}[n] - \\bar{v}[n - 1]), \\\\\n",
    "  \\boldsymbol{v}[n] &= \\frac{1}{2}(\\bar{v}[n] + \\bar{v}[n-1])\n",
    "\\end{align}\n",
    "\n",
    "where $\\bar{v}_{n} = \\boldsymbol{v}_{n} + \\frac{T}{2}\\frac{d}{dt} \\boldsymbol{v}_{n}$ is a *canonical state*, same as (3.3b) in [The Art of VA Filter Design 2.1.2](https://www.discodsp.net/VAFilterDesign_2.1.2.pdf) where $T = 1$.\n",
    "\n",
    "We obtain the following\n",
    "\n",
    "\\begin{equation}\n",
    "    \\begin{bmatrix}\n",
    "        -\\omega_c \\boldsymbol{A} & \\boldsymbol{I} & \\boldsymbol{0} \\\\\n",
    "        -\\boldsymbol{C} & \\boldsymbol{0} & \\boldsymbol{I} \\\\\n",
    "    \\end{bmatrix}\n",
    "    \\begin{pmatrix}\n",
    "      \\frac{1}{2}(\\bar{v}[n] + \\bar{v}[n-1]) \\\\\n",
    "      \\frac{1}{T}(\\bar{v}[n] - \\bar{v}[n-1]) \\\\\n",
    "      y_\\text{out}\n",
    "    \\end{pmatrix}\n",
    "    =\n",
    "    \\begin{pmatrix}\n",
    "      \\omega_c \\boldsymbol{B} x_\\text{in} \\\\\n",
    "      \\boldsymbol{0}\n",
    "    \\end{pmatrix},\n",
    "\\end{equation}\n",
    "\n",
    "that can we rewritten as\n",
    "\n",
    "\\begin{equation}\n",
    "    \\begin{bmatrix}\n",
    "        -\\frac{1}{2}\\omega_c \\boldsymbol{A} + \\frac{1}{T} \\boldsymbol{I} & \\boldsymbol{0} \\\\\n",
    "        -\\frac{1}{2}\\boldsymbol{C} & \\boldsymbol{I} \\\\\n",
    "    \\end{bmatrix}\n",
    "    \\begin{bmatrix}\n",
    "      \\bar{v}[n] \\\\\n",
    "      y_\\text{out}\n",
    "    \\end{bmatrix}\n",
    "    =\n",
    "    \\begin{bmatrix}\n",
    "        \\frac{1}{2}\\omega_c \\boldsymbol{A} - \\frac{1}{T} \\boldsymbol{I} & \\omega_c \\boldsymbol{B} \\\\\n",
    "        \\frac{1}{2} \\boldsymbol{C} & \\boldsymbol{0}\n",
    "    \\end{bmatrix}\n",
    "    \\begin{bmatrix}\n",
    "      \\bar{v}[n-1] \\\\\n",
    "      x_\\text{in}\n",
    "    \\end{bmatrix}.\n",
    "\\end{equation}\n",
    "\n",
    "Here we have a set of equations that we can easilly solve."
   ]
  },
  {
   "cell_type": "code",
   "execution_count": 39,
   "metadata": {},
   "outputs": [
    {
     "data": {
      "text/latex": [
       "$\\displaystyle \\left[\\begin{matrix}\\left(- 0.5 \\omega_{c} A + \\frac{1}{T} \\mathbb{I}\\right)^{-1} \\left(0.5 \\omega_{c} A + \\frac{1}{T} \\mathbb{I}\\right) & \\omega_{c} \\left(- 0.5 \\omega_{c} A + \\frac{1}{T} \\mathbb{I}\\right)^{-1} B\\\\0.5 C + 0.5 C \\left(- 0.5 \\omega_{c} A + \\frac{1}{T} \\mathbb{I}\\right)^{-1} \\left(0.5 \\omega_{c} A + \\frac{1}{T} \\mathbb{I}\\right) & 0.5 \\omega_{c} C \\left(- 0.5 \\omega_{c} A + \\frac{1}{T} \\mathbb{I}\\right)^{-1} B\\end{matrix}\\right]$"
      ],
      "text/plain": [
       "⎡                            -1                                               \n",
       "⎢       ⎛1                  ⎞   ⎛1                   ⎞                     ⎛1 \n",
       "⎢       ⎜─⋅𝕀 -0.5⋅\\omega_c⋅A⎟  ⋅⎜─⋅𝕀 + 0.5⋅\\omega_c⋅A⎟            \\omega_c⋅⎜─⋅\n",
       "⎢       ⎝T                  ⎠   ⎝T                   ⎠                     ⎝T \n",
       "⎢                                                                             \n",
       "⎢                                   -1                                        \n",
       "⎢              ⎛1                  ⎞   ⎛1                   ⎞                 \n",
       "⎢0.5⋅C + 0.5⋅C⋅⎜─⋅𝕀 -0.5⋅\\omega_c⋅A⎟  ⋅⎜─⋅𝕀 + 0.5⋅\\omega_c⋅A⎟  0.5⋅\\omega_c⋅C⋅\n",
       "⎣              ⎝T                  ⎠   ⎝T                   ⎠                 \n",
       "\n",
       "                  -1     ⎤\n",
       "                 ⎞       ⎥\n",
       "𝕀 -0.5⋅\\omega_c⋅A⎟  ⋅B   ⎥\n",
       "                 ⎠       ⎥\n",
       "                         ⎥\n",
       "                     -1  ⎥\n",
       "⎛1                  ⎞    ⎥\n",
       "⎜─⋅𝕀 -0.5⋅\\omega_c⋅A⎟  ⋅B⎥\n",
       "⎝T                  ⎠    ⎦"
      ]
     },
     "execution_count": 39,
     "metadata": {},
     "output_type": "execute_result"
    }
   ],
   "source": [
    "wc, T, m, n = symbols('\\omega_c, T, m, n')\n",
    "A = MatrixSymbol('A', n, n)\n",
    "B = MatrixSymbol('B', n, m)\n",
    "C = MatrixSymbol('C', m, n)\n",
    "D = MatrixSymbol('D', m, m)\n",
    "\n",
    "v = MatrixSymbol('v', n, m)\n",
    "x = MatrixSymbol('x', m, m)\n",
    "y = MatrixSymbol('y', m, m)\n",
    "\n",
    "assert (A * v + B * x).shape == (n, m)  # (4, 1) for Kurt\n",
    "assert (C * v + D * x).shape == (m, m)  # (1, 1) for Kurt\n",
    "\n",
    "tmp = BlockMatrix([[-1/2 * wc *  A + 1 / T * Identity(n), ZeroMatrix(n, m)], \n",
    "                   [-1/2 * C, Identity(m)]])\n",
    "\n",
    "tmp2 = BlockMatrix([[1/2 * wc * A + 1/T*Identity(n), wc * B], \n",
    "                    [1/2 * C, ZeroMatrix(m, m)]])\n",
    "\n",
    "block_collapse(tmp.inv()*tmp2)"
   ]
  },
  {
   "cell_type": "markdown",
   "metadata": {},
   "source": [
    "Finally we can rewrite these equations in terms of $\\boldsymbol{H} = g (\\boldsymbol{I} - g\\boldsymbol{A})^{-1}$ and $g = \\frac{\\omega_c T}{2}$.\n",
    "\n",
    "\\begin{align}\n",
    "    \\tilde{\\boldsymbol{A}} &= (\\boldsymbol{I} - g\\boldsymbol{A})^{-1}(\\boldsymbol{I} + g\\boldsymbol{A}) \\\\\n",
    "        &= 2 \\boldsymbol{H}\\boldsymbol{A} + \\boldsymbol{I}, \\\\\n",
    "    \\tilde{\\boldsymbol{B}} &= 2 \\boldsymbol{H}\\boldsymbol{B}, \\\\\n",
    "    \\tilde{\\boldsymbol{C}} &= \\frac{1}{2} \\boldsymbol{C} (\\boldsymbol{I}  + (\\boldsymbol{I} - g \\boldsymbol{A})^{-1}(\\boldsymbol{I} + g \\boldsymbol{A}))  \\\\\n",
    "    &= \\boldsymbol{C} (\\boldsymbol{H}\\boldsymbol{A} + \\boldsymbol{I}) ,\\\\\n",
    "    \\tilde{\\boldsymbol{D}} &= \\boldsymbol{C}\\boldsymbol{H}\\boldsymbol{B}.\n",
    "\\end{align}\n",
    "\n",
    "These expressions match the results exactly when calculated using TPF-II as done above."
   ]
  }
 ],
 "metadata": {
  "kernelspec": {
   "display_name": "Python 3 (ipykernel)",
   "language": "python",
   "name": "python3"
  },
  "language_info": {
   "codemirror_mode": {
    "name": "ipython",
    "version": 3
   },
   "file_extension": ".py",
   "mimetype": "text/x-python",
   "name": "python",
   "nbconvert_exporter": "python",
   "pygments_lexer": "ipython3",
   "version": "3.9.10"
  }
 },
 "nbformat": 4,
 "nbformat_minor": 1
}
